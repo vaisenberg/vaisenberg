{
  "nbformat": 4,
  "nbformat_minor": 0,
  "metadata": {
    "colab": {
      "provenance": []
    },
    "kernelspec": {
      "name": "python3",
      "display_name": "Python 3"
    },
    "language_info": {
      "name": "python"
    }
  },
  "cells": [
    {
      "cell_type": "code",
      "execution_count": 1,
      "metadata": {
        "colab": {
          "base_uri": "https://localhost:8080/"
        },
        "id": "J5QqnuDiEfvV",
        "outputId": "b2c96baf-4ebe-4d21-b8d9-4bc7bb437120"
      },
      "outputs": [
        {
          "output_type": "stream",
          "name": "stdout",
          "text": [
            "T-Statistic: -2.3805\n",
            "P-Value: 0.0175\n",
            "Result: The difference in revenue per email is statistically significant.\n"
          ]
        }
      ],
      "source": [
        "from scipy.stats import ttest_ind\n",
        "\n",
        "# Example data: individual revenues for A and B\n",
        "revenue_A = [10] * 45 + [0] * (500 - 45)  # Purchases: $10, Non-purchases: $0\n",
        "revenue_B = [13] * 55 + [0] * (500 - 55)  # Purchases: $13, Non-purchases: $0\n",
        "\n",
        "# Perform two-sample t-test\n",
        "t_stat, p_value = ttest_ind(revenue_A, revenue_B, equal_var=False)  # Use Welch's t-test if variances differ\n",
        "\n",
        "print(f\"T-Statistic: {t_stat:.4f}\")\n",
        "print(f\"P-Value: {p_value:.4f}\")\n",
        "\n",
        "if p_value < 0.05:\n",
        "    print(\"Result: The difference in revenue per email is statistically significant.\")\n",
        "else:\n",
        "    print(\"Result: The difference in revenue per email is not statistically significant.\")\n"
      ]
    },
    {
      "cell_type": "code",
      "source": [
        "from statsmodels.stats.proportion import proportions_ztest\n",
        "\n",
        "# Data for the two groups\n",
        "purchases_A = 45\n",
        "emails_sent_A = 500\n",
        "purchases_B = 55\n",
        "emails_sent_B = 500\n",
        "\n",
        "# Perform two-proportion z-test\n",
        "successes = [purchases_A, purchases_B]\n",
        "samples = [emails_sent_A, emails_sent_B]\n",
        "\n",
        "z_stat, p_value = proportions_ztest(successes, samples)\n",
        "\n",
        "print(f\"Z-Statistic: {z_stat:.4f}\")\n",
        "print(f\"P-Value: {p_value:.4f}\")\n",
        "\n",
        "if p_value < 0.05:\n",
        "    print(\"Result: The difference in conversion rates is statistically significant.\")\n",
        "else:\n",
        "    print(\"Result: The difference in conversion rates is not statistically significant.\")\n"
      ],
      "metadata": {
        "colab": {
          "base_uri": "https://localhost:8080/"
        },
        "id": "TOE5zSjWEteI",
        "outputId": "ad44a305-7901-4cb2-b9ed-3e57dfcc7646"
      },
      "execution_count": 2,
      "outputs": [
        {
          "output_type": "stream",
          "name": "stdout",
          "text": [
            "Z-Statistic: -1.0541\n",
            "P-Value: 0.2918\n",
            "Result: The difference in conversion rates is not statistically significant.\n"
          ]
        }
      ]
    },
    {
      "cell_type": "code",
      "source": [
        "\n",
        "from scipy.stats import norm\n",
        "from statsmodels.stats.proportion import proportions_ztest\n",
        "import numpy as np\n",
        "\n",
        "# Data\n",
        "emails_sent_A = 500\n",
        "emails_sent_B = 500\n",
        "purchases_A = 45\n",
        "purchases_B = 55\n",
        "total_revenue_A = 5000\n",
        "total_revenue_B = 6500\n",
        "\n",
        "# Conversion rates\n",
        "conversion_rate_A = purchases_A / emails_sent_A\n",
        "conversion_rate_B = purchases_B / emails_sent_B\n",
        "print(f\"Conversion Rate (A): {conversion_rate_A * 100:.2f}%\")\n",
        "print(f\"Conversion Rate (B): {conversion_rate_B * 100:.2f}%\")\n",
        "\n",
        "# Revenue per email\n",
        "revenue_per_email_A = total_revenue_A / emails_sent_A\n",
        "revenue_per_email_B = total_revenue_B / emails_sent_B\n",
        "print(f\"Revenue Per Email (A): ${revenue_per_email_A:.2f}\")\n",
        "print(f\"Revenue Per Email (B): ${revenue_per_email_B:.2f}\")\n",
        "\n",
        "# Variance calculation for revenue per email\n",
        "# Assuming individual revenue data is available or simulated\n",
        "# Simulating data: purchases generate revenue, non-purchases generate $0\n",
        "revenue_A = [10] * purchases_A + [0] * (emails_sent_A - purchases_A)\n",
        "revenue_B = [13] * purchases_B + [0] * (emails_sent_B - purchases_B)\n",
        "\n",
        "# Calculate sample variances\n",
        "variance_A = np.var(revenue_A, ddof=1)  # Sample variance for A\n",
        "variance_B = np.var(revenue_B, ddof=1)  # Sample variance for B\n",
        "\n",
        "print(f\"Variance (A): {variance_A:.2f}\")\n",
        "print(f\"Variance (B): {variance_B:.2f}\")\n",
        "\n",
        "# Two-Proportion Z-Test for Conversion Rates\n",
        "successes = [purchases_A, purchases_B]\n",
        "samples = [emails_sent_A, emails_sent_B]\n",
        "z_stat_conversion, p_value_conversion = proportions_ztest(successes, samples)\n",
        "print(f\"Z-Statistic (Conversion Rate): {z_stat_conversion:.4f}\")\n",
        "print(f\"P-Value (Conversion Rate): {p_value_conversion:.4f}\")\n",
        "\n",
        "if p_value_conversion < 0.05:\n",
        "    print(\"The difference in conversion rates is statistically significant.\")\n",
        "else:\n",
        "    print(\"The difference in conversion rates is not statistically significant.\")\n",
        "\n",
        "# Two-Sample Z-Test for Revenue Per Email\n",
        "mean_A = revenue_per_email_A\n",
        "mean_B = revenue_per_email_B\n",
        "\n",
        "z_stat_revenue = (mean_A - mean_B) / np.sqrt((variance_A / emails_sent_A) + (variance_B / emails_sent_B))\n",
        "p_value_revenue = 2 * (1 - norm.cdf(abs(z_stat_revenue)))\n",
        "\n",
        "print(f\"Z-Statistic (Revenue Per Email): {z_stat_revenue:.4f}\")\n",
        "print(f\"P-Value (Revenue Per Email): {p_value_revenue:.4f}\")\n",
        "\n",
        "if p_value_revenue < 0.05:\n",
        "    print(\"The difference in revenue per email is statistically significant.\")\n",
        "else:\n",
        "    print(\"The difference in revenue per email is not statistically significant.\")\n",
        "\n"
      ],
      "metadata": {
        "colab": {
          "base_uri": "https://localhost:8080/"
        },
        "id": "E3DZOLu3Gaa1",
        "outputId": "bb550496-6bf6-4982-9148-2fdb460f8053"
      },
      "execution_count": 5,
      "outputs": [
        {
          "output_type": "stream",
          "name": "stdout",
          "text": [
            "Conversion Rate (A): 9.00%\n",
            "Conversion Rate (B): 11.00%\n",
            "Revenue Per Email (A): $10.00\n",
            "Revenue Per Email (B): $13.00\n",
            "Variance (A): 8.21\n",
            "Variance (B): 16.58\n",
            "Z-Statistic (Conversion Rate): -1.0541\n",
            "P-Value (Conversion Rate): 0.2918\n",
            "The difference in conversion rates is not statistically significant.\n",
            "Z-Statistic (Revenue Per Email): -13.4746\n",
            "P-Value (Revenue Per Email): 0.0000\n",
            "The difference in revenue per email is statistically significant.\n"
          ]
        }
      ]
    },
    {
      "cell_type": "markdown",
      "source": [
        "Simulated Revenue Data:\n",
        "\n",
        "Assumes purchases generate specific revenue amounts ($10 for A, $13 for B).\n",
        "Non-purchases contribute $0 to revenue.\n",
        "Calculated Variances:\n",
        "\n",
        "Variance is computed directly from the simulated revenue data.\n",
        "Z-Test Updated:\n",
        "\n",
        "The Z-test for revenue per email uses the calculated variances instead of assuming a fixed value.\n"
      ],
      "metadata": {
        "id": "wetQ8CIUIVeT"
      }
    },
    {
      "cell_type": "code",
      "source": [
        "from scipy.stats import ttest_ind\n",
        "import numpy as np\n",
        "\n",
        "# Data\n",
        "emails_sent_A = 500\n",
        "emails_sent_B = 500\n",
        "purchases_A = 45\n",
        "purchases_B = 55\n",
        "total_revenue_A = 5000\n",
        "total_revenue_B = 6500\n",
        "\n",
        "# Simulated revenue data\n",
        "revenue_A = [10] * purchases_A + [0] * (emails_sent_A - purchases_A)\n",
        "revenue_B = [13] * purchases_B + [0] * (emails_sent_B - purchases_B)\n",
        "\n",
        "# Perform two-sample t-test\n",
        "t_stat, p_value = ttest_ind(revenue_A, revenue_B, equal_var=False)  # Use Welch's t-test for unequal variances\n",
        "\n",
        "print(f\"T-Statistic: {t_stat:.4f}\")\n",
        "print(f\"P-Value: {p_value:.4f}\")\n",
        "\n",
        "if p_value < 0.05:\n",
        "    print(\"The difference in revenue per email is statistically significant.\")\n",
        "else:\n",
        "    print(\"The difference in revenue per email is not statistically significant.\")\n"
      ],
      "metadata": {
        "colab": {
          "base_uri": "https://localhost:8080/"
        },
        "id": "xeQCIe7ZIcT_",
        "outputId": "9eab3e98-f08b-4c1e-d658-2b77f9a50686"
      },
      "execution_count": 6,
      "outputs": [
        {
          "output_type": "stream",
          "name": "stdout",
          "text": [
            "T-Statistic: -2.3805\n",
            "P-Value: 0.0175\n",
            "The difference in revenue per email is statistically significant.\n"
          ]
        }
      ]
    },
    {
      "cell_type": "code",
      "source": [],
      "metadata": {
        "id": "tVmyB33zIcQD"
      },
      "execution_count": null,
      "outputs": []
    }
  ]
}