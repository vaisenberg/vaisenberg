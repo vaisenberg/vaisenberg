{
  "nbformat": 4,
  "nbformat_minor": 0,
  "metadata": {
    "colab": {
      "provenance": []
    },
    "kernelspec": {
      "name": "python3",
      "display_name": "Python 3"
    },
    "language_info": {
      "name": "python"
    }
  },
  "cells": [
    {
      "cell_type": "code",
      "execution_count": null,
      "metadata": {
        "colab": {
          "base_uri": "https://localhost:8080/"
        },
        "id": "p2FDwDGp3yVh",
        "outputId": "d2aeea10-def3-47be-fb84-5e6df2874c6b"
      },
      "outputs": [
        {
          "output_type": "stream",
          "name": "stdout",
          "text": [
            "95% confidence interval: (3.9491827904154486, 14.997268801165905)\n",
            "9.672119341470662\n"
          ]
        }
      ],
      "source": [
        "import numpy as np\n",
        "from sklearn.utils import resample\n",
        "\n",
        "\n",
        "original_sample = np.random.normal(loc=10, scale=10, size =10)\n",
        "\n",
        "bootstrap_means = []\n",
        "\n",
        "for _ in range(10000):\n",
        "  bootstrap_sample = resample(original_sample)\n",
        "  bootstrap_mean = np.mean(bootstrap_sample)\n",
        "  bootstrap_means.append(bootstrap_mean)\n",
        "\n",
        "\n",
        "lower_bound = np.percentile(bootstrap_means, 7)\n",
        "upper_bound = np.percentile(bootstrap_means, 93)\n",
        "\n",
        "print(f\"95% confidence interval: ({lower_bound}, {upper_bound})\")\n",
        "print(np.mean(bootstrap_means))\n"
      ]
    },
    {
      "cell_type": "code",
      "source": [
        "import numpy as np\n",
        "from scipy.stats import mannwhitneyu\n",
        "from sklearn.utils import resample\n",
        "\n",
        "# Group data\n",
        "group_A = np.array([30, 45, 50, 60, 70, 80])\n",
        "group_B = np.array([35, 40, 55, 65, 75, 85])\n",
        "\n",
        "# Mann-Whitney U Test\n",
        "u_statistic, p_value = mannwhitneyu(group_A, group_B)\n",
        "print(f\"Mann-Whitney U Test: U={u_statistic}, p-value={p_value}\")\n",
        "\n",
        "# Bootstrap for confidence interval of median difference\n",
        "n_bootstrap = 10000\n",
        "bootstrap_differences = []\n",
        "\n",
        "for _ in range(n_bootstrap):\n",
        "    sample_A = resample(group_A)\n",
        "    sample_B = resample(group_B)\n",
        "    median_diff = np.median(sample_B) - np.median(sample_A)\n",
        "    bootstrap_differences.append(median_diff)\n",
        "\n",
        "# Confidence interval\n",
        "confidence_level = 95\n",
        "lower_bound = np.percentile(bootstrap_differences, (100 - confidence_level) / 2)\n",
        "upper_bound = np.percentile(bootstrap_differences, 100 - (100 - confidence_level) / 2)\n",
        "\n",
        "print(f\"{confidence_level}% Confidence Interval for Median Difference: [{lower_bound:.2f}, {upper_bound:.2f}]\")\n"
      ],
      "metadata": {
        "colab": {
          "base_uri": "https://localhost:8080/"
        },
        "id": "tvXBnLr47LDL",
        "outputId": "0b170c07-aab1-49ed-f0fd-7471f7729f73"
      },
      "execution_count": null,
      "outputs": [
        {
          "output_type": "stream",
          "name": "stdout",
          "text": [
            "Mann-Whitney U Test: U=16.0, p-value=0.8181818181818182\n",
            "95% Confidence Interval for Median Difference: [-25.00, 30.00]\n"
          ]
        }
      ]
    },
    {
      "cell_type": "code",
      "source": [
        "import pandas as pd\n",
        "\n",
        "# Create the dataset\n",
        "data = {\n",
        "    'user_id': range(1, 13),\n",
        "    'button_color': ['red', 'blue', 'green', 'red', 'blue', 'green', 'red', 'blue', 'green', 'red', 'blue', 'green'],\n",
        "    'header_version': ['v1', 'v2', 'v1', 'v2', 'v1', 'v2', 'v1', 'v2', 'v1', 'v2', 'v1', 'v2'],\n",
        "    'converted': [0, 1, 0, 1, 0, 1, 0, 1, 0, 1, 0, 1]\n",
        "}\n",
        "\n",
        "# Convert to DataFrame\n",
        "df = pd.DataFrame(data)\n",
        "\n",
        "# Save to CSV\n",
        "df.to_csv('mvt_data.csv', index=False)\n",
        "print(\"Data saved as 'mvt_data.csv'\")\n"
      ],
      "metadata": {
        "colab": {
          "base_uri": "https://localhost:8080/"
        },
        "id": "knqN4-d0Eyz6",
        "outputId": "aee0dbdb-4c17-4813-859c-beb32d5dd581"
      },
      "execution_count": null,
      "outputs": [
        {
          "output_type": "stream",
          "name": "stdout",
          "text": [
            "Data saved as 'mvt_data.csv'\n"
          ]
        }
      ]
    },
    {
      "cell_type": "code",
      "source": [
        "import pandas as pd\n",
        "import statsmodels.api as sm\n",
        "\n",
        "# Load data\n",
        "df = pd.read_csv('mvt_data.csv')\n",
        "\n",
        "# Convert categorical variables to dummy variables\n",
        "df_dummies = pd.get_dummies(df[['button_color', 'header_version']], drop_first=True)\n",
        "df_dummies['converted'] = df['converted']  # Ensure 'converted' is included as a numeric column\n",
        "\n",
        "# Separate predictors (X) and target (y)\n",
        "X = df_dummies.drop('converted', axis=1).astype(float)  # Ensure predictors are numeric\n",
        "y = df_dummies['converted'].astype(float)              # Ensure target is numeric\n",
        "\n",
        "# Add constant term for the intercept\n",
        "X = sm.add_constant(X)\n",
        "\n",
        "# Fit the logistic regression model\n",
        "model = sm.Logit(y, X)\n",
        "result = model.fit()\n",
        "\n",
        "# Print the summary of the model\n",
        "print(result.summary())\n"
      ],
      "metadata": {
        "colab": {
          "base_uri": "https://localhost:8080/"
        },
        "id": "gwmHzMs0FPb3",
        "outputId": "5fd11bbc-9d62-4059-84d4-60c4294f0109"
      },
      "execution_count": null,
      "outputs": [
        {
          "output_type": "stream",
          "name": "stdout",
          "text": [
            "Warning: Maximum number of iterations has been exceeded.\n",
            "         Current function value: 0.000000\n",
            "         Iterations: 35\n",
            "                           Logit Regression Results                           \n",
            "==============================================================================\n",
            "Dep. Variable:              converted   No. Observations:                   12\n",
            "Model:                          Logit   Df Residuals:                        8\n",
            "Method:                           MLE   Df Model:                            3\n",
            "Date:                Wed, 25 Dec 2024   Pseudo R-squ.:                   1.000\n",
            "Time:                        09:21:12   Log-Likelihood:            -1.5777e-09\n",
            "converged:                      False   LL-Null:                       -8.3178\n",
            "Covariance Type:            nonrobust   LLR p-value:                 0.0008398\n",
            "======================================================================================\n",
            "                         coef    std err          z      P>|z|      [0.025      0.975]\n",
            "--------------------------------------------------------------------------------------\n",
            "const                -22.0403   4.32e+04     -0.001      1.000   -8.47e+04    8.46e+04\n",
            "button_color_green   -12.9080   1.58e+07  -8.15e-07      1.000    -3.1e+07     3.1e+07\n",
            "button_color_red     -12.9080   1.58e+07  -8.15e-07      1.000    -3.1e+07     3.1e+07\n",
            "header_version_v2     57.0169   1.58e+07    3.6e-06      1.000    -3.1e+07     3.1e+07\n",
            "======================================================================================\n",
            "\n",
            "Complete Separation: The results show that there iscomplete separation or perfect prediction.\n",
            "In this case the Maximum Likelihood Estimator does not exist and the parameters\n",
            "are not identified.\n"
          ]
        },
        {
          "output_type": "stream",
          "name": "stderr",
          "text": [
            "/usr/local/lib/python3.10/dist-packages/statsmodels/discrete/discrete_model.py:227: PerfectSeparationWarning: Perfect separation or prediction detected, parameter may not be identified\n",
            "  warnings.warn(msg, category=PerfectSeparationWarning)\n",
            "/usr/local/lib/python3.10/dist-packages/statsmodels/discrete/discrete_model.py:227: PerfectSeparationWarning: Perfect separation or prediction detected, parameter may not be identified\n",
            "  warnings.warn(msg, category=PerfectSeparationWarning)\n",
            "/usr/local/lib/python3.10/dist-packages/statsmodels/discrete/discrete_model.py:227: PerfectSeparationWarning: Perfect separation or prediction detected, parameter may not be identified\n",
            "  warnings.warn(msg, category=PerfectSeparationWarning)\n",
            "/usr/local/lib/python3.10/dist-packages/statsmodels/discrete/discrete_model.py:227: PerfectSeparationWarning: Perfect separation or prediction detected, parameter may not be identified\n",
            "  warnings.warn(msg, category=PerfectSeparationWarning)\n",
            "/usr/local/lib/python3.10/dist-packages/statsmodels/discrete/discrete_model.py:227: PerfectSeparationWarning: Perfect separation or prediction detected, parameter may not be identified\n",
            "  warnings.warn(msg, category=PerfectSeparationWarning)\n",
            "/usr/local/lib/python3.10/dist-packages/statsmodels/discrete/discrete_model.py:227: PerfectSeparationWarning: Perfect separation or prediction detected, parameter may not be identified\n",
            "  warnings.warn(msg, category=PerfectSeparationWarning)\n",
            "/usr/local/lib/python3.10/dist-packages/statsmodels/discrete/discrete_model.py:227: PerfectSeparationWarning: Perfect separation or prediction detected, parameter may not be identified\n",
            "  warnings.warn(msg, category=PerfectSeparationWarning)\n",
            "/usr/local/lib/python3.10/dist-packages/statsmodels/discrete/discrete_model.py:227: PerfectSeparationWarning: Perfect separation or prediction detected, parameter may not be identified\n",
            "  warnings.warn(msg, category=PerfectSeparationWarning)\n",
            "/usr/local/lib/python3.10/dist-packages/statsmodels/discrete/discrete_model.py:227: PerfectSeparationWarning: Perfect separation or prediction detected, parameter may not be identified\n",
            "  warnings.warn(msg, category=PerfectSeparationWarning)\n",
            "/usr/local/lib/python3.10/dist-packages/statsmodels/discrete/discrete_model.py:227: PerfectSeparationWarning: Perfect separation or prediction detected, parameter may not be identified\n",
            "  warnings.warn(msg, category=PerfectSeparationWarning)\n",
            "/usr/local/lib/python3.10/dist-packages/statsmodels/base/model.py:607: ConvergenceWarning: Maximum Likelihood optimization failed to converge. Check mle_retvals\n",
            "  warnings.warn(\"Maximum Likelihood optimization failed to \"\n"
          ]
        }
      ]
    },
    {
      "cell_type": "markdown",
      "source": [
        "#Bayes A/B test\n",
        "### **What is the Beta Distribution?**\n",
        "\n",
        "The **Beta distribution** is used to represent probabilities. For A/B testing, it models the likelihood of different conversion rates based on observed data.\n",
        "\n",
        "#### **Why the Beta Distribution?**\n",
        "1. **Probabilities Range from 0 to 1**:\n",
        "   - Conversion rates (e.g., 5%, 10%) are probabilities, and the Beta distribution is defined only between 0 and 1.\n",
        "\n",
        "2. **Shape Depends on Parameters**:\n",
        "   - The Beta distribution is controlled by two parameters:\n",
        "     - **`α` (alpha)**: Represents the number of \"successes\" (e.g., conversions).\n",
        "     - **`β` (beta)**: Represents the number of \"failures\" (e.g., non-conversions).\n",
        "\n",
        "3. **What Does It Do?**\n",
        "   - It provides a probability distribution for the conversion rate, showing which values are most likely based on the observed data.\n",
        "\n",
        "---\n",
        "\n",
        "### **Real-Life Analogy**\n",
        "\n",
        "Imagine you’re flipping a coin to determine if it’s biased:\n",
        "- **Before flipping**:\n",
        "  - You might believe the coin is fair, so every probability (50%, 60%, etc.) is equally likely (this is the **prior belief**: Beta(1, 1)).\n",
        "- **After flipping**:\n",
        "  - If you flip the coin 10 times and it lands heads 7 times, you’ll update your belief. You’ll now think the probability of heads is higher than 50%.\n",
        "  - The Beta distribution updates based on successes (heads) and failures (tails).\n",
        "\n",
        "For A/B testing:\n",
        "- Successes = Conversions (people who buy).\n",
        "- Failures = Non-conversions (people who don’t buy).\n",
        "\n",
        "---\n",
        "\n",
        "### **Function Walkthrough**\n",
        "\n",
        "Here’s the function again with a detailed explanation.\n",
        "\n",
        "```python\n",
        "def bayesian_ab_test(conversions_a, conversions_b, prior_alpha=1, prior_beta=1):\n",
        "    \"\"\"Perform Bayesian A/B testing with Beta distributions.\"\"\"\n",
        "```\n",
        "\n",
        "1. **What does this function do?**\n",
        "   - It takes conversion data for two groups (A and B) and uses the Beta distribution to calculate:\n",
        "     - The **posterior belief** about the conversion rate for A and B.\n",
        "     - The **probability** that B is better than A.\n",
        "\n",
        "2. **Inputs (Parameters):**\n",
        "   - `conversions_a`: Array of successes (1s) and failures (0s) for Variant A.\n",
        "   - `conversions_b`: Array of successes and failures for Variant B.\n",
        "   - `prior_alpha=1`, `prior_beta=1`: The prior belief about successes and failures before observing data.\n",
        "\n",
        "---\n",
        "\n",
        "```python\n",
        "    n_a = len(conversions_a)  # Number of visitors for A\n",
        "    n_b = len(conversions_b)  # Number of visitors for B\n",
        "    conv_a = conversions_a.sum()  # Total successes for A\n",
        "    conv_b = conversions_b.sum()  # Total successes for B\n",
        "```\n",
        "\n",
        "1. **`n_a = len(conversions_a)`**:\n",
        "   - Counts the number of visitors exposed to Variant A.\n",
        "   - Example: If 1,000 visitors saw Variant A, `n_a = 1000`.\n",
        "\n",
        "2. **`n_b = len(conversions_b)`**:\n",
        "   - Counts visitors exposed to Variant B.\n",
        "\n",
        "3. **`conv_a = conversions_a.sum()`**:\n",
        "   - Counts how many visitors converted in Variant A (sum of all 1s in the array).\n",
        "   - Example: If 50 people converted, `conv_a = 50`.\n",
        "\n",
        "4. **`conv_b = conversions_b.sum()`**:\n",
        "   - Counts conversions for Variant B.\n",
        "\n",
        "---\n",
        "\n",
        "```python\n",
        "    # Posterior distributions\n",
        "    posterior_a = beta(prior_alpha + conv_a, prior_beta + n_a - conv_a)\n",
        "    posterior_b = beta(prior_alpha + conv_b, prior_beta + n_b - conv_b)\n",
        "```\n",
        "\n",
        "### **What Does This Do?**\n",
        "\n",
        "1. **Posterior Distribution**:\n",
        "   - Updates our prior belief using the observed data to calculate the **posterior distribution** for the conversion rates of A and B.\n",
        "\n",
        "2. **Parameters for `beta`**:\n",
        "   - `prior_alpha + conv_a`: Total \"successes\" (prior successes + observed successes).\n",
        "   - `prior_beta + n_a - conv_a`: Total \"failures\" (prior failures + observed failures).\n",
        "\n",
        "#### **Example for Variant A**:\n",
        "- **Before Observing Data**:\n",
        "  - `prior_alpha = 1` (starting belief: 1 success).\n",
        "  - `prior_beta = 1` (starting belief: 1 failure).\n",
        "\n",
        "- **Observed Data**:\n",
        "  - `conv_a = 50` (50 people converted).\n",
        "  - `n_a - conv_a = 950` (950 people didn’t convert).\n",
        "\n",
        "- **Posterior Parameters**:\n",
        "  - `posterior_a = Beta(1 + 50, 1 + 950) = Beta(51, 951)`.\n",
        "  - This means the posterior distribution now reflects 51 successes and 951 failures.\n",
        "\n",
        "---\n",
        "\n",
        "```python\n",
        "    # Probability that B is better than A\n",
        "    prob_b_better = (posterior_b.rvs(10000) > posterior_a.rvs(10000)).mean()\n",
        "```\n",
        "\n",
        "### **What Does This Do?**\n",
        "\n",
        "1. **`posterior_b.rvs(10000)`**:\n",
        "   - Generates 10,000 random samples from B’s posterior distribution. Each sample is a possible conversion rate for B.\n",
        "\n",
        "2. **`posterior_a.rvs(10000)`**:\n",
        "   - Generates 10,000 random samples from A’s posterior distribution.\n",
        "\n",
        "3. **`posterior_b.rvs(10000) > posterior_a.rvs(10000)`**:\n",
        "   - Compares the sampled conversion rates for B and A.\n",
        "   - Returns `True` (1) if B’s rate is higher than A’s, and `False` (0) otherwise.\n",
        "\n",
        "4. **`.mean()`**:\n",
        "   - Takes the average of these comparisons.\n",
        "   - Example: If B is better than A in 7,800 out of 10,000 samples, the result is `0.78` (78%).\n",
        "\n",
        "---\n",
        "\n",
        "```python\n",
        "    return posterior_a, posterior_b, prob_b_better\n",
        "```\n",
        "\n",
        "1. **What is returned?**\n",
        "   - `posterior_a`: Updated belief about A’s conversion rate.\n",
        "   - `posterior_b`: Updated belief about B’s conversion rate.\n",
        "   - `prob_b_better`: Probability that B is better than A.\n",
        "\n",
        "---\n",
        "\n",
        "### **Real-Life Scenario**\n",
        "\n",
        "Let’s say you’re running an A/B test on a website:\n",
        "- Variant A (control): The current design of your homepage.\n",
        "- Variant B (treatment): A new design with an updated call-to-action.\n",
        "\n",
        "#### Observed Data:\n",
        "- 1,000 visitors saw Variant A:\n",
        "  - 50 people converted.\n",
        "- 1,000 visitors saw Variant B:\n",
        "  - 60 people converted.\n",
        "\n",
        "#### What the Code Does:\n",
        "1. **Prior Belief**:\n",
        "   - You start with no strong assumptions about conversion rates (Beta(1, 1)).\n",
        "\n",
        "2. **Posterior Distributions**:\n",
        "   - For A: Beta(51, 951).\n",
        "   - For B: Beta(61, 941).\n",
        "\n",
        "3. **Compare Probabilities**:\n",
        "   - Simulate many possible conversion rates for A and B based on the posteriors.\n",
        "   - Calculate how often B’s rate is higher than A’s.\n",
        "\n",
        "#### Result:\n",
        "- \"There’s a 78% probability that the new design (B) performs better than the current design (A).\"\n",
        "\n",
        "---\n",
        "\n",
        "### **Key Takeaways**\n",
        "- **Beta Distribution**:\n",
        "  - Models probabilities based on successes and failures.\n",
        "  - Parameters:\n",
        "    - `α`: Successes.\n",
        "    - `β`: Failures.\n",
        "\n",
        "- **How It Works**:\n",
        "  - The function updates your beliefs about conversion rates using observed data.\n",
        "  - It calculates a clear, intuitive probability that one variant is better than the other.\n",
        "\n",
        "- **Why It’s Useful**:\n",
        "  - Bayesian testing gives actionable insights: \"How confident should I be that Variant B is better?\"\n",
        "  - It’s especially powerful when you have small samples or want to incorporate prior knowledge."
      ],
      "metadata": {
        "id": "_wdSWXxjq3aA"
      }
    },
    {
      "cell_type": "code",
      "source": [
        "from scipy.stats import beta\n",
        "import numpy as np\n",
        "import matplotlib.pyplot as plt\n",
        "\n",
        "# Simulated real-world data\n",
        "np.random.seed(42)\n",
        "\n",
        "# Conversion rates for A and B\n",
        "prob_a = 0.05  # True conversion rate for variant A (Control)\n",
        "prob_b = 0.06  # True conversion rate for variant B (Treatment)\n",
        "\n",
        "# Generate simulated conversion data\n",
        "n_visitors = 1000  # Total number of visitors for each variant\n",
        "conversions_a = np.random.binomial(1, prob_a, n_visitors)  # 1 = success, 0 = failure\n",
        "conversions_b = np.random.binomial(1, prob_b, n_visitors)\n"
      ],
      "metadata": {
        "id": "C1BbCJV6X-H5"
      },
      "execution_count": null,
      "outputs": []
    },
    {
      "cell_type": "code",
      "source": [
        "# Bayesian A/B Testing function\n",
        "def bayesian_ab_test(conversions_a, conversions_b, prior_alpha=1, prior_beta=1):\n",
        "    \"\"\"Perform Bayesian A/B testing with Beta distributions.\"\"\"\n",
        "    n_a = len(conversions_a)  # Number of visitors for A\n",
        "    n_b = len(conversions_b)  # Number of visitors for B\n",
        "    conv_a = conversions_a.sum()  # Total successes for A\n",
        "    conv_b = conversions_b.sum()  # Total successes for B\n",
        "\n",
        "    # Posterior distributions\n",
        "    posterior_a = beta(prior_alpha + conv_a, prior_beta + n_a - conv_a)\n",
        "    posterior_b = beta(prior_alpha + conv_b, prior_beta + n_b - conv_b)\n",
        "\n",
        "    # Probability that B is better than A\n",
        "    prob_b_better = (posterior_b.rvs(10000) > posterior_a.rvs(10000)).mean()\n",
        "\n",
        "    return posterior_a, posterior_b, prob_b_better\n"
      ],
      "metadata": {
        "id": "ZvITY4bUYAy_"
      },
      "execution_count": null,
      "outputs": []
    },
    {
      "cell_type": "code",
      "source": [
        "# Perform Bayesian A/B testing\n",
        "posterior_a, posterior_b, prob_b_better = bayesian_ab_test(conversions_a, conversions_b)\n",
        "\n",
        "# Print results\n",
        "print(f\"Probability that variant B is better than variant A: {prob_b_better:.2f}\")\n"
      ],
      "metadata": {
        "colab": {
          "base_uri": "https://localhost:8080/"
        },
        "id": "uaRWUyQ7YDB9",
        "outputId": "9513a057-5e9f-4840-a53a-6d643aed5ac3"
      },
      "execution_count": null,
      "outputs": [
        {
          "output_type": "stream",
          "name": "stdout",
          "text": [
            "Probability that variant B is better than variant A: 0.98\n"
          ]
        }
      ]
    },
    {
      "cell_type": "code",
      "source": [
        "# Plot posterior distributions\n",
        "x = np.linspace(0, 0.1, 1000)  # Range of conversion rates for plotting\n",
        "plt.plot(x, posterior_a.pdf(x), label='Posterior A (Control)', alpha=0.7)\n",
        "plt.plot(x, posterior_b.pdf(x), label='Posterior B (Variant)', alpha=0.7)\n",
        "plt.title(\"Posterior Distributions for Conversion Rates\")\n",
        "plt.xlabel(\"Conversion Rate\")\n",
        "plt.ylabel(\"Density\")\n",
        "plt.legend()\n",
        "plt.show()\n"
      ],
      "metadata": {
        "colab": {
          "base_uri": "https://localhost:8080/",
          "height": 472
        },
        "id": "u31XrZ90YGWJ",
        "outputId": "775d793f-9bb7-4b7a-c250-3263539be438"
      },
      "execution_count": null,
      "outputs": [
        {
          "output_type": "display_data",
          "data": {
            "text/plain": [
              "<Figure size 640x480 with 1 Axes>"
            ],
            "image/png": "[encoded data removed]"
          },
          "metadata": {}
        }
      ]
    }
  ]
}