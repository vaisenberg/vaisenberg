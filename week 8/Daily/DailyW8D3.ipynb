{
  "metadata": {
    "kernelspec": {
      "language": "python",
      "display_name": "Python 3",
      "name": "python3"
    },
    "language_info": {
      "pygments_lexer": "ipython3",
      "nbconvert_exporter": "python",
      "version": "3.6.4",
      "file_extension": ".py",
      "codemirror_mode": {
        "name": "ipython",
        "version": 3
      },
      "name": "python",
      "mimetype": "text/x-python"
    },
    "kaggle": {
      "accelerator": "none",
      "dataSources": [
        {
          "sourceId": 4213024,
          "sourceType": "datasetVersion",
          "datasetId": 2479030
        }
      ],
      "dockerImageVersionId": 30558,
      "isInternetEnabled": false,
      "language": "python",
      "sourceType": "notebook",
      "isGpuEnabled": false
    },
    "colab": {
      "provenance": []
    }
  },
  "nbformat_minor": 0,
  "nbformat": 4,
  "cells": [
    {
      "cell_type": "code",
      "source": [
        "import numpy as np\n",
        "import pandas as pd\n",
        "import matplotlib.pyplot as plt\n",
        "import seaborn as sns\n",
        "import itertools\n",
        "import statsmodels.stats.api as sms\n",
        "from scipy.stats import (ttest_1samp, shapiro, levene, ttest_ind, mannwhitneyu,\n",
        "                         pearsonr, spearmanr, kendalltau, f_oneway, kruskal)\n",
        "from statsmodels.stats.proportion import proportions_ztest\n",
        "from statsmodels.stats.multicomp import MultiComparison\n"
      ],
      "metadata": {
        "_uuid": "8f2839f25d086af736a60e9eeb907d3b93b6e0e5",
        "_cell_guid": "b1076dfc-b9ad-4769-8c92-a6c4dae69d19",
        "execution": {
          "iopub.status.busy": "2023-11-06T18:15:49.893535Z",
          "iopub.execute_input": "2023-11-06T18:15:49.894197Z",
          "iopub.status.idle": "2023-11-06T18:15:49.925697Z",
          "shell.execute_reply.started": "2023-11-06T18:15:49.894137Z",
          "shell.execute_reply": "2023-11-06T18:15:49.924613Z"
        },
        "trusted": true,
        "id": "NxVVGK3Ervuh"
      },
      "execution_count": 1,
      "outputs": []
    },
    {
      "cell_type": "code",
      "source": [
        "# TODO : Import the Data from the kaggle API\n",
        "from google.colab import files\n",
        "files.upload()\n",
        "ab_test_data = pd.read_csv('AB_Test_Results.csv')\n",
        "print(ab_test_data.head())\n",
        "print(ab_test_data.info())\n"
      ],
      "metadata": {
        "id": "3tOTF5-JoVbY",
        "colab": {
          "base_uri": "https://localhost:8080/",
          "height": 383
        },
        "outputId": "ead0acb6-6904-40d3-953b-08fe0001adf5"
      },
      "execution_count": 4,
      "outputs": [
        {
          "output_type": "display_data",
          "data": {
            "text/plain": [
              "<IPython.core.display.HTML object>"
            ],
            "text/html": [
              "\n",
              "     <input type=\"file\" id=\"files-762e9df8-cd3f-4d15-abde-fb374c8b09dd\" name=\"files[]\" multiple disabled\n",
              "        style=\"border:none\" />\n",
              "     <output id=\"result-762e9df8-cd3f-4d15-abde-fb374c8b09dd\">\n",
              "      Upload widget is only available when the cell has been executed in the\n",
              "      current browser session. Please rerun this cell to enable.\n",
              "      </output>\n",
              "      <script>// Copyright 2017 Google LLC\n",
              "//\n",
              "// Licensed under the Apache License, Version 2.0 (the \"License\");\n",
              "// you may not use this file except in compliance with the License.\n",
              "// You may obtain a copy of the License at\n",
              "//\n",
              "//      http://www.apache.org/licenses/LICENSE-2.0\n",
              "//\n",
              "// Unless required by applicable law or agreed to in writing, software\n",
              "// distributed under the License is distributed on an \"AS IS\" BASIS,\n",
              "// WITHOUT WARRANTIES OR CONDITIONS OF ANY KIND, either express or implied.\n",
              "// See the License for the specific language governing permissions and\n",
              "// limitations under the License.\n",
              "\n",
              "/**\n",
              " * @fileoverview Helpers for google.colab Python module.\n",
              " */\n",
              "(function(scope) {\n",
              "function span(text, styleAttributes = {}) {\n",
              "  const element = document.createElement('span');\n",
              "  element.textContent = text;\n",
              "  for (const key of Object.keys(styleAttributes)) {\n",
              "    element.style[key] = styleAttributes[key];\n",
              "  }\n",
              "  return element;\n",
              "}\n",
              "\n",
              "// Max number of bytes which will be uploaded at a time.\n",
              "const MAX_PAYLOAD_SIZE = 100 * 1024;\n",
              "\n",
              "function _uploadFiles(inputId, outputId) {\n",
              "  const steps = uploadFilesStep(inputId, outputId);\n",
              "  const outputElement = document.getElementById(outputId);\n",
              "  // Cache steps on the outputElement to make it available for the next call\n",
              "  // to uploadFilesContinue from Python.\n",
              "  outputElement.steps = steps;\n",
              "\n",
              "  return _uploadFilesContinue(outputId);\n",
              "}\n",
              "\n",
              "// This is roughly an async generator (not supported in the browser yet),\n",
              "// where there are multiple asynchronous steps and the Python side is going\n",
              "// to poll for completion of each step.\n",
              "// This uses a Promise to block the python side on completion of each step,\n",
              "// then passes the result of the previous step as the input to the next step.\n",
              "function _uploadFilesContinue(outputId) {\n",
              "  const outputElement = document.getElementById(outputId);\n",
              "  const steps = outputElement.steps;\n",
              "\n",
              "  const next = steps.next(outputElement.lastPromiseValue);\n",
              "  return Promise.resolve(next.value.promise).then((value) => {\n",
              "    // Cache the last promise value to make it available to the next\n",
              "    // step of the generator.\n",
              "    outputElement.lastPromiseValue = value;\n",
              "    return next.value.response;\n",
              "  });\n",
              "}\n",
              "\n",
              "/**\n",
              " * Generator function which is called between each async step of the upload\n",
              " * process.\n",
              " * @param {string} inputId Element ID of the input file picker element.\n",
              " * @param {string} outputId Element ID of the output display.\n",
              " * @return {!Iterable<!Object>} Iterable of next steps.\n",
              " */\n",
              "function* uploadFilesStep(inputId, outputId) {\n",
              "  const inputElement = document.getElementById(inputId);\n",
              "  inputElement.disabled = false;\n",
              "\n",
              "  const outputElement = document.getElementById(outputId);\n",
              "  outputElement.innerHTML = '';\n",
              "\n",
              "  const pickedPromise = new Promise((resolve) => {\n",
              "    inputElement.addEventListener('change', (e) => {\n",
              "      resolve(e.target.files);\n",
              "    });\n",
              "  });\n",
              "\n",
              "  const cancel = document.createElement('button');\n",
              "  inputElement.parentElement.appendChild(cancel);\n",
              "  cancel.textContent = 'Cancel upload';\n",
              "  const cancelPromise = new Promise((resolve) => {\n",
              "    cancel.onclick = () => {\n",
              "      resolve(null);\n",
              "    };\n",
              "  });\n",
              "\n",
              "  // Wait for the user to pick the files.\n",
              "  const files = yield {\n",
              "    promise: Promise.race([pickedPromise, cancelPromise]),\n",
              "    response: {\n",
              "      action: 'starting',\n",
              "    }\n",
              "  };\n",
              "\n",
              "  cancel.remove();\n",
              "\n",
              "  // Disable the input element since further picks are not allowed.\n",
              "  inputElement.disabled = true;\n",
              "\n",
              "  if (!files) {\n",
              "    return {\n",
              "      response: {\n",
              "        action: 'complete',\n",
              "      }\n",
              "    };\n",
              "  }\n",
              "\n",
              "  for (const file of files) {\n",
              "    const li = document.createElement('li');\n",
              "    li.append(span(file.name, {fontWeight: 'bold'}));\n",
              "    li.append(span(\n",
              "        `(${file.type || 'n/a'}) - ${file.size} bytes, ` +\n",
              "        `last modified: ${\n",
              "            file.lastModifiedDate ? file.lastModifiedDate.toLocaleDateString() :\n",
              "                                    'n/a'} - `));\n",
              "    const percent = span('0% done');\n",
              "    li.appendChild(percent);\n",
              "\n",
              "    outputElement.appendChild(li);\n",
              "\n",
              "    const fileDataPromise = new Promise((resolve) => {\n",
              "      const reader = new FileReader();\n",
              "      reader.onload = (e) => {\n",
              "        resolve(e.target.result);\n",
              "      };\n",
              "      reader.readAsArrayBuffer(file);\n",
              "    });\n",
              "    // Wait for the data to be ready.\n",
              "    let fileData = yield {\n",
              "      promise: fileDataPromise,\n",
              "      response: {\n",
              "        action: 'continue',\n",
              "      }\n",
              "    };\n",
              "\n",
              "    // Use a chunked sending to avoid message size limits. See b/62115660.\n",
              "    let position = 0;\n",
              "    do {\n",
              "      const length = Math.min(fileData.byteLength - position, MAX_PAYLOAD_SIZE);\n",
              "      const chunk = new Uint8Array(fileData, position, length);\n",
              "      position += length;\n",
              "\n",
              "      const base64 = btoa(String.fromCharCode.apply(null, chunk));\n",
              "      yield {\n",
              "        response: {\n",
              "          action: 'append',\n",
              "          file: file.name,\n",
              "          data: base64,\n",
              "        },\n",
              "      };\n",
              "\n",
              "      let percentDone = fileData.byteLength === 0 ?\n",
              "          100 :\n",
              "          Math.round((position / fileData.byteLength) * 100);\n",
              "      percent.textContent = `${percentDone}% done`;\n",
              "\n",
              "    } while (position < fileData.byteLength);\n",
              "  }\n",
              "\n",
              "  // All done.\n",
              "  yield {\n",
              "    response: {\n",
              "      action: 'complete',\n",
              "    }\n",
              "  };\n",
              "}\n",
              "\n",
              "scope.google = scope.google || {};\n",
              "scope.google.colab = scope.google.colab || {};\n",
              "scope.google.colab._files = {\n",
              "  _uploadFiles,\n",
              "  _uploadFilesContinue,\n",
              "};\n",
              "})(self);\n",
              "</script> "
            ]
          },
          "metadata": {}
        },
        {
          "output_type": "stream",
          "name": "stdout",
          "text": [
            "Saving AB_Test_Results.csv to AB_Test_Results (1).csv\n",
            "   USER_ID VARIANT_NAME  REVENUE\n",
            "0      737      variant      0.0\n",
            "1     2423      control      0.0\n",
            "2     9411      control      0.0\n",
            "3     7311      control      0.0\n",
            "4     6174      variant      0.0\n",
            "<class 'pandas.core.frame.DataFrame'>\n",
            "RangeIndex: 10000 entries, 0 to 9999\n",
            "Data columns (total 3 columns):\n",
            " #   Column        Non-Null Count  Dtype  \n",
            "---  ------        --------------  -----  \n",
            " 0   USER_ID       10000 non-null  int64  \n",
            " 1   VARIANT_NAME  10000 non-null  object \n",
            " 2   REVENUE       10000 non-null  float64\n",
            "dtypes: float64(1), int64(1), object(1)\n",
            "memory usage: 234.5+ KB\n",
            "None\n"
          ]
        }
      ]
    },
    {
      "cell_type": "markdown",
      "source": [
        "# Data Understanding"
      ],
      "metadata": {
        "id": "x4TkAvmHrvuk"
      }
    },
    {
      "cell_type": "code",
      "source": [
        "#TODO : compute the following : DataFrame Information, Columns in DataFrame, Counting Missing Values, Descriptive Statistics, Value Counts for VARIANT_NAME, Counting Unique Users in USER_ID\n",
        "\n",
        "data_info = ab_test_data.info()\n",
        "columns = ab_test_data.columns.tolist()\n",
        "missing_values_count = ab_test_data.isnull().sum()\n",
        "descriptive_stats = ab_test_data.describe()\n",
        "variant_value_counts = ab_test_data['VARIANT_NAME'].value_counts()\n",
        "unique_users_count = ab_test_data['USER_ID'].nunique()\n",
        "\n",
        "# Print results\n",
        "print(f\"DataFrame Information: {data_info}\\n\")\n",
        "print(f\"Columns in DataFrame: {columns}\\n\")\n",
        "print(f\"Counting Missing Values: {missing_values_count.to_dict()}\\n\")\n",
        "print(f\"Descriptive Statistics: {descriptive_stats.to_dict()}\\n\")\n",
        "print(f\"Value Counts for VARIANT_NAME: {variant_value_counts.to_dict()}\\n\")\n",
        "print(f\"Counting Unique Users in USER_ID: {unique_users_count}\\n\")\n",
        "\n"
      ],
      "metadata": {
        "execution": {
          "iopub.status.busy": "2023-11-06T18:17:34.663181Z",
          "iopub.execute_input": "2023-11-06T18:17:34.663604Z",
          "iopub.status.idle": "2023-11-06T18:17:34.698452Z",
          "shell.execute_reply.started": "2023-11-06T18:17:34.66357Z",
          "shell.execute_reply": "2023-11-06T18:17:34.697253Z"
        },
        "trusted": true,
        "id": "4hquSCDYrvun",
        "colab": {
          "base_uri": "https://localhost:8080/"
        },
        "outputId": "bbc9d54b-ab40-4c89-96ce-ec211276138e"
      },
      "execution_count": 6,
      "outputs": [
        {
          "output_type": "stream",
          "name": "stdout",
          "text": [
            "<class 'pandas.core.frame.DataFrame'>\n",
            "RangeIndex: 10000 entries, 0 to 9999\n",
            "Data columns (total 3 columns):\n",
            " #   Column        Non-Null Count  Dtype  \n",
            "---  ------        --------------  -----  \n",
            " 0   USER_ID       10000 non-null  int64  \n",
            " 1   VARIANT_NAME  10000 non-null  object \n",
            " 2   REVENUE       10000 non-null  float64\n",
            "dtypes: float64(1), int64(1), object(1)\n",
            "memory usage: 234.5+ KB\n",
            "DataFrame Information: None\n",
            "\n",
            "Columns in DataFrame: ['USER_ID', 'VARIANT_NAME', 'REVENUE']\n",
            "\n",
            "Counting Missing Values: {'USER_ID': 0, 'VARIANT_NAME': 0, 'REVENUE': 0}\n",
            "\n",
            "Descriptive Statistics: {'USER_ID': {'count': 10000.0, 'mean': 4981.0802, 'std': 2890.5901148535654, 'min': 2.0, '25%': 2468.75, '50%': 4962.0, '75%': 7511.5, 'max': 10000.0}, 'REVENUE': {'count': 10000.0, 'mean': 0.09944700000000001, 'std': 2.3185286544931945, 'min': 0.0, '25%': 0.0, '50%': 0.0, '75%': 0.0, 'max': 196.01}}\n",
            "\n",
            "Value Counts for VARIANT_NAME: {'variant': 5016, 'control': 4984}\n",
            "\n",
            "Counting Unique Users in USER_ID: 6324\n",
            "\n"
          ]
        }
      ]
    },
    {
      "cell_type": "markdown",
      "source": [
        "# Average Revenue by VARIANT_NAME"
      ],
      "metadata": {
        "id": "1UJ0wnvyrvup"
      }
    },
    {
      "cell_type": "code",
      "source": [
        "#TODO\n",
        "\n",
        "average_revenue_by_variant = ab_test_data.groupby('VARIANT_NAME')['REVENUE'].mean()\n",
        "print(\"Average Revenue by VARIANT_NAME:\")\n",
        "print(average_revenue_by_variant)\n"
      ],
      "metadata": {
        "execution": {
          "iopub.status.busy": "2023-11-06T18:18:57.601805Z",
          "iopub.execute_input": "2023-11-06T18:18:57.602256Z",
          "iopub.status.idle": "2023-11-06T18:18:57.619241Z",
          "shell.execute_reply.started": "2023-11-06T18:18:57.602219Z",
          "shell.execute_reply": "2023-11-06T18:18:57.618008Z"
        },
        "trusted": true,
        "id": "FEl4TOdKrvuq",
        "colab": {
          "base_uri": "https://localhost:8080/"
        },
        "outputId": "413574ad-b912-4270-fdeb-840c3ce0c0eb"
      },
      "execution_count": 7,
      "outputs": [
        {
          "output_type": "stream",
          "name": "stdout",
          "text": [
            "Average Revenue by VARIANT_NAME:\n",
            "VARIANT_NAME\n",
            "control    0.129013\n",
            "variant    0.070070\n",
            "Name: REVENUE, dtype: float64\n"
          ]
        }
      ]
    },
    {
      "cell_type": "markdown",
      "source": [
        "What if H0: M1 = M2 ?\n",
        "What about H1: M1 1= M2 ?"
      ],
      "metadata": {
        "id": "VI4aeoclrvur"
      }
    },
    {
      "cell_type": "markdown",
      "source": [
        "# Assumptions Control:\n",
        "*# 1- Normality Assumptions*\n",
        "*# 2- Homogeneity of Variances Assumption*"
      ],
      "metadata": {
        "id": "9nwdJ5OPrvus"
      }
    },
    {
      "cell_type": "code",
      "source": [
        "# TODO : test the normality of revenue data in two groups (variant and control) within your DataFrame df using the Shapiro-Wilk test, what can you conclude ?\n",
        "\n",
        "# Redefine the control and variant groups\n",
        "control_group = ab_test_data[ab_test_data['VARIANT_NAME'] == 'control']['REVENUE']\n",
        "variant_group = ab_test_data[ab_test_data['VARIANT_NAME'] == 'variant']['REVENUE']\n",
        "\n",
        "# Perform the Shapiro-Wilk test for normality\n",
        "shapiro_control_stat, shapiro_control_p = shapiro(control_group)\n",
        "shapiro_variant_stat, shapiro_variant_p = shapiro(variant_group)\n",
        "\n",
        "# Display the results\n",
        "print(\"Control Group:\")\n",
        "print(f\"Shapiro-Wilk Statistic: {shapiro_control_stat}, p-value: {shapiro_control_p}\")\n",
        "\n",
        "print(\"\\nVariant Group:\")\n",
        "print(f\"Shapiro-Wilk Statistic: {shapiro_variant_stat}, p-value: {shapiro_variant_p}\")\n",
        "\n"
      ],
      "metadata": {
        "execution": {
          "iopub.status.busy": "2023-11-06T18:33:49.418255Z",
          "iopub.execute_input": "2023-11-06T18:33:49.419188Z",
          "iopub.status.idle": "2023-11-06T18:33:49.439409Z",
          "shell.execute_reply.started": "2023-11-06T18:33:49.41913Z",
          "shell.execute_reply": "2023-11-06T18:33:49.438008Z"
        },
        "trusted": true,
        "id": "TT2sJwFprvut",
        "colab": {
          "base_uri": "https://localhost:8080/"
        },
        "outputId": "a6c9ae14-4a5d-42af-ed0b-9a272c09b101"
      },
      "execution_count": 9,
      "outputs": [
        {
          "output_type": "stream",
          "name": "stdout",
          "text": [
            "Control Group:\n",
            "Shapiro-Wilk Statistic: 0.01833147442513483, p-value: 2.4983285100057203e-95\n",
            "\n",
            "Variant Group:\n",
            "Shapiro-Wilk Statistic: 0.027033073451830147, p-value: 2.7310104028899288e-95\n"
          ]
        },
        {
          "output_type": "stream",
          "name": "stderr",
          "text": [
            "/usr/local/lib/python3.10/dist-packages/scipy/stats/_axis_nan_policy.py:531: UserWarning: scipy.stats.shapiro: For N > 5000, computed p-value may not be accurate. Current N is 5016.\n",
            "  res = hypotest_fun_out(*samples, **kwds)\n"
          ]
        }
      ]
    },
    {
      "cell_type": "markdown",
      "source": [
        "Both groups have p-values very close to 0 (much less than 0.05), which means the null hypothesis (that the data is normally distributed) is rejected.\n",
        "Additionally, the warning from SciPy indicates that the test's p-value may not be accurate for large sample sizes greater than  \n",
        "5000, as is the case here. However, even without precise p-values, it is clear the data strongly deviates from normality.\n",
        "Conclusion:\n",
        "The revenue data in both the control and variant groups does not follow a normal distribution. Because of this, non-parametric statistical methods such as the Mann-Whitney U test may be better suited for comparing these groups."
      ],
      "metadata": {
        "id": "UcyLEbkpxJ48"
      }
    },
    {
      "cell_type": "markdown",
      "source": [
        "\n",
        "\n",
        "---\n",
        "\n",
        "For large datasets, consider using alternative methods for testing normality:\n",
        "Kolmogorov-Smirnov Test:\n",
        "Less sensitive to large sample sizes.\n",
        "Compares the sample distribution to a normal distribution.\n",
        "\n",
        "---\n",
        "\n"
      ],
      "metadata": {
        "id": "N0Tj5Ahsxsxr"
      }
    },
    {
      "cell_type": "code",
      "source": [
        "from scipy.stats import kstest\n",
        "\n",
        "# Performing  Kolmogorov-Smirnov test for normality on control group\n",
        "ks_control_stat, ks_control_p = kstest(control_group, 'norm', args=(control_group.mean(), control_group.std()))\n",
        "\n",
        "# Performing Kolmogorov-Smirnov test for normality on variant group\n",
        "ks_variant_stat, ks_variant_p = kstest(variant_group, 'norm', args=(variant_group.mean(), variant_group.std()))\n",
        "\n",
        "\n",
        "print(\"Kolmogorov-Smirnov Test Results:\")\n",
        "print(\"Control Group:\")\n",
        "print(f\"KS Statistic: {ks_control_stat}, p-value: {ks_control_p}\")\n",
        "print(\"\\nVariant Group:\")\n",
        "print(f\"KS Statistic: {ks_variant_stat}, p-value: {ks_variant_p}\")\n"
      ],
      "metadata": {
        "colab": {
          "base_uri": "https://localhost:8080/"
        },
        "id": "7zPb-bnsxbqA",
        "outputId": "fb9c0a10-3360-415e-a09b-64eb97b988a6"
      },
      "execution_count": 10,
      "outputs": [
        {
          "output_type": "stream",
          "name": "stdout",
          "text": [
            "Kolmogorov-Smirnov Test Results:\n",
            "Control Group:\n",
            "KS Statistic: 0.5010566932169329, p-value: 0.0\n",
            "\n",
            "Variant Group:\n",
            "KS Statistic: 0.5068967164402843, p-value: 0.0\n"
          ]
        }
      ]
    },
    {
      "cell_type": "markdown",
      "source": [
        "\n",
        "Kolmogorov-Smirnov Test Results:\n",
        "\n",
        "Control Group:\n",
        "KS Statistic: 0.5011\n",
        "p-value: 0.0\n",
        "\n",
        "Variant Group:\n",
        "KS Statistic: 0.5069\n",
        "p-value: 0.0\n",
        "\n",
        "Interpretation:\n",
        "Both groups have p-values of 0, which are less than the standard significance level (e.g., 0.05).\n",
        "This indicates that we reject the null hypothesis, which assumes that the data follows a normal distribution.\n",
        "Conclusion:\n",
        "The Kolmogorov-Smirnov test further confirms that the revenue data for both the control and variant groups does not follow a normal distribution. Based on this, it would be more appropriate to use non-parametric methods for comparing these groups."
      ],
      "metadata": {
        "id": "vgBKBgpdyMKO"
      }
    },
    {
      "cell_type": "code",
      "source": [
        "# TODO : test for the homogeneity of variances between two groups (variant and control) within your DataFrame df using the Levene's test,  what can you conclude ?\n",
        "\n",
        "levene_stat, levene_p = levene(control_group, variant_group)\n",
        "\n",
        "print(\"Levene's Test Results:\")\n",
        "print(f\"Statistic: {levene_stat}\")\n",
        "print(f\"p-value: {levene_p}\")\n"
      ],
      "metadata": {
        "execution": {
          "iopub.status.busy": "2023-11-06T18:36:19.230691Z",
          "iopub.execute_input": "2023-11-06T18:36:19.231134Z",
          "iopub.status.idle": "2023-11-06T18:36:19.251023Z",
          "shell.execute_reply.started": "2023-11-06T18:36:19.231103Z",
          "shell.execute_reply": "2023-11-06T18:36:19.249467Z"
        },
        "trusted": true,
        "id": "n_X3_fU2rvuv",
        "colab": {
          "base_uri": "https://localhost:8080/"
        },
        "outputId": "e59e0c86-8f03-408e-cee7-5e6977fa2618"
      },
      "execution_count": 11,
      "outputs": [
        {
          "output_type": "stream",
          "name": "stdout",
          "text": [
            "Levene's Test Results:\n",
            "Statistic: 1.6158565214488871\n",
            "p-value: 0.2037000785338918\n"
          ]
        }
      ]
    },
    {
      "cell_type": "markdown",
      "source": [
        "The null hypothesis of Levene's test assumes that the variances of the two groups are equal.\n",
        "Since the p-value (0.204) is greater than the significance level (e.g., 0.05), we fail to reject the null hypothesis.\n",
        "Conclusion:\n",
        "There is no statistically significant difference in the variances between the control and variant groups. This suggests that the assumption of equal variances holds."
      ],
      "metadata": {
        "id": "JdiuYjyHzwcQ"
      }
    },
    {
      "cell_type": "markdown",
      "source": [
        "# Non-Parametric Test (mannwhitneyu Test)"
      ],
      "metadata": {
        "id": "thz0Mml0rvuw"
      }
    },
    {
      "cell_type": "code",
      "source": [
        "# TODO : perform the Mann-Whitney U test for comparing the average revenue between the variant and control groups in your DataFrame, what can you conclude ?\n",
        "mannwhitney_stat, mannwhitney_p = mannwhitneyu(control_group, variant_group, alternative='two-sided')\n",
        "\n",
        "# Display the results\n",
        "print(\"Mann-Whitney U Test Results:\")\n",
        "print(f\"Test Statistic: {mannwhitney_stat}\")\n",
        "print(f\"p-value: {mannwhitney_p}\")\n"
      ],
      "metadata": {
        "execution": {
          "iopub.status.busy": "2023-11-06T18:38:28.694822Z",
          "iopub.execute_input": "2023-11-06T18:38:28.695244Z",
          "iopub.status.idle": "2023-11-06T18:38:28.727682Z",
          "shell.execute_reply.started": "2023-11-06T18:38:28.695212Z",
          "shell.execute_reply": "2023-11-06T18:38:28.726189Z"
        },
        "trusted": true,
        "id": "HGcWTyuUrvuw",
        "colab": {
          "base_uri": "https://localhost:8080/"
        },
        "outputId": "161572b3-6e27-4f04-a83b-5d628259bc17"
      },
      "execution_count": 12,
      "outputs": [
        {
          "output_type": "stream",
          "name": "stdout",
          "text": [
            "Mann-Whitney U Test Results:\n",
            "Test Statistic: 12521564.0\n",
            "p-value: 0.47825247965294926\n"
          ]
        }
      ]
    },
    {
      "cell_type": "markdown",
      "source": [
        "The Mann-Whitney U test evaluates whether there is a significant difference in the distributions of revenue between the control and variant groups.\n",
        "Since the p-value (0.478) is greater than the significance level (e.g., 0.05), we fail to reject the null hypothesis.\n",
        "\n",
        "Conclusion:\n",
        "There is no statistically significant difference in the revenue distributions between the control and variant groups. This result suggests that the variant does not significantly affect revenue compared to the control."
      ],
      "metadata": {
        "id": "BZFohB3C1Kmz"
      }
    },
    {
      "cell_type": "code",
      "source": [
        "# TODO : create a bar plot showing the average revenues by variant names using the seaborn library\n",
        "average_revenue = ab_test_data.groupby('VARIANT_NAME')['REVENUE'].mean().reset_index()\n",
        "\n",
        "plt.figure(figsize=(6, 4))\n",
        "sns.barplot(\n",
        "    x='VARIANT_NAME',\n",
        "    y='REVENUE',\n",
        "    data=average_revenue,\n",
        "    hue='VARIANT_NAME',\n",
        "    dodge=False,\n",
        "    palette=[\"lightgreen\", \"yellow\"]\n",
        ")\n",
        "plt.title('Average Revenue by Variant Names', fontsize=14)\n",
        "plt.xlabel('Variant Name', fontsize=12)\n",
        "plt.ylabel('Average Revenue', fontsize=12)\n",
        "plt.xticks(fontsize=10)\n",
        "plt.yticks(fontsize=10)\n",
        "plt.legend([],[], frameon=False)\n",
        "plt.show()\n",
        "\n"
      ],
      "metadata": {
        "execution": {
          "iopub.status.busy": "2023-11-06T18:45:29.181657Z",
          "iopub.execute_input": "2023-11-06T18:45:29.18208Z",
          "iopub.status.idle": "2023-11-06T18:45:29.640026Z",
          "shell.execute_reply.started": "2023-11-06T18:45:29.182049Z",
          "shell.execute_reply": "2023-11-06T18:45:29.638846Z"
        },
        "trusted": true,
        "id": "jtjQGGsDrvux",
        "colab": {
          "base_uri": "https://localhost:8080/",
          "height": 415
        },
        "outputId": "a18ffdc0-e70c-4c60-ebe1-45a62a6700c0"
      },
      "execution_count": 19,
      "outputs": [
        {
          "output_type": "display_data",
          "data": {
            "text/plain": [
              "<Figure size 600x400 with 1 Axes>"
            ],
            "image/png": "[encoded data removed]"
          },
          "metadata": {}
        }
      ]
    },
    {
      "cell_type": "markdown",
      "source": [
        "Based on the statistical tests, there is no statistically significant difference in revenue between the control and variant groups.\n",
        "Although the bar chart visually shows a difference, statistical analysis suggests that this difference could be due to random variation rather than a real effect."
      ],
      "metadata": {
        "id": "xL9TqQ383-is"
      }
    }
  ]
}