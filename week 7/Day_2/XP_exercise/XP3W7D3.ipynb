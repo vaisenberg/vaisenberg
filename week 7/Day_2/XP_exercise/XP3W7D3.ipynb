{
 "cells": [
  {
   "cell_type": "code",
   "execution_count": null,
   "metadata": {},
   "outputs": [],
   "source": []
  },
  {
   "cell_type": "code",
   "execution_count": 2,
   "metadata": {},
   "outputs": [],
   "source": [
    "from selenium import webdriver\n",
    "from selenium.webdriver.common.by import By\n",
    "from bs4 import BeautifulSoup\n",
    "import time\n",
    "\n",
    "# Setup Selenium WebDriver\n",
    "driver = webdriver.Chrome()  # Ensure chromedriver is in your PATH or provide the executable path\n",
    "driver.get(\"https://www.rottentomatoes.com/browse/movies_in_theaters/critics:certified_fresh~sort:popular\")\n",
    "\n",
    "# Wait for the page to fully load\n",
    "time.sleep(5)  # Adjust sleep time if needed for slower connections\n",
    "\n",
    "# Extract the page source after it's fully loaded\n",
    "html_content = driver.page_source\n",
    "\n",
    "# Close the driver\n",
    "driver.quit()\n",
    "\n",
    "# Parse the HTML content with BeautifulSoup\n",
    "soup = BeautifulSoup(html_content, \"html.parser\")\n",
    "\n",
    "# Extract movie information\n",
    "movies = []\n",
    "movie_cards = soup.find_all(\"div\", class_=\"mb-movie\")  # Adjust class based on Rotten Tomatoes' structure\n",
    "\n",
    "for card in movie_cards:\n",
    "    # Extract the title\n",
    "    title = card.find(\"h3\", class_=\"movieTitle\").text if card.find(\"h3\", class_=\"movieTitle\") else \"N/A\"\n",
    "    \n",
    "    # Extract the score\n",
    "    score_tag = card.find(\"span\", class_=\"tMeterScore\")\n",
    "    score = score_tag.text.strip() if score_tag else \"N/A\"\n",
    "    \n",
    "    # Extract the release date\n",
    "    release_date_tag = card.find(\"p\", class_=\"release-date\")\n",
    "    release_date = release_date_tag.text.strip() if release_date_tag else \"N/A\"\n",
    "    \n",
    "    # Append the information to the list\n",
    "    movies.append({\"Title\": title, \"Score\": score, \"Release Date\": release_date})\n",
    "\n",
    "# Print the extracted movie data\n",
    "for movie in movies:\n",
    "    print(f\"Title: {movie['Title']}, Score: {movie['Score']}, Release Date: {movie['Release Date']}\")\n"
   ]
  },
  {
   "cell_type": "code",
   "execution_count": 3,
   "metadata": {},
   "outputs": [
    {
     "name": "stdout",
     "output_type": "stream",
     "text": [
      "hello\n"
     ]
    }
   ],
   "source": [
    "print('hello')"
   ]
  },
  {
   "cell_type": "code",
   "execution_count": 4,
   "metadata": {},
   "outputs": [
    {
     "name": "stdout",
     "output_type": "stream",
     "text": [
      "Extracted Movie Titles:\n",
      "- Carry-On\n",
      "- The Brutalist\n",
      "- September 5\n",
      "- Nickel Boys\n",
      "- The Last Showgirl\n",
      "- The Room Next Door\n",
      "- White Christmas\n"
     ]
    }
   ],
   "source": [
    "from selenium import webdriver\n",
    "from selenium.webdriver.common.by import By\n",
    "from selenium.webdriver.support.ui import WebDriverWait\n",
    "from selenium.webdriver.support import expected_conditions as EC\n",
    "from bs4 import BeautifulSoup\n",
    "import time\n",
    "\n",
    "try:\n",
    "    # Setup Selenium WebDriver\n",
    "    driver = webdriver.Chrome()  # Ensure chromedriver is in PATH\n",
    "    driver.get(\"https://www.rottentomatoes.com/browse/movies_in_theaters/critics:certified_fresh~sort:popular\")\n",
    "\n",
    "    # Wait for the page to load\n",
    "    WebDriverWait(driver, 20).until(\n",
    "        EC.presence_of_all_elements_located((By.CLASS_NAME, \"transparent\"))\n",
    "    )\n",
    "\n",
    "    # Extract the page source after it's fully loaded\n",
    "    html_content = driver.page_source\n",
    "\n",
    "    # Parse the HTML content with BeautifulSoup\n",
    "    soup = BeautifulSoup(html_content, \"html.parser\")\n",
    "\n",
    "    # Extract movie titles\n",
    "    movies = []\n",
    "    movie_buttons = soup.find_all(\"button\", class_=\"transparent\")  # Locate all buttons with the transparent class\n",
    "\n",
    "    for button in movie_buttons:\n",
    "        # Extract the span with the movie title\n",
    "        title_span = button.find(\"span\", class_=\"sr-only\")\n",
    "        if title_span and \"Watch the trailer for\" in title_span.text:\n",
    "            title = title_span.text.replace(\"Watch the trailer for \", \"\").strip()\n",
    "            movies.append(title)\n",
    "\n",
    "    # Print extracted movie titles\n",
    "    if movies:\n",
    "        print(\"Extracted Movie Titles:\")\n",
    "        for title in movies:\n",
    "            print(f\"- {title}\")\n",
    "    else:\n",
    "        print(\"No movies found!\")\n",
    "\n",
    "except Exception as e:\n",
    "    print(f\"An error occurred: {e}\")\n",
    "finally:\n",
    "    # Close the driver\n",
    "    driver.quit()\n"
   ]
  }
 ],
 "metadata": {
  "kernelspec": {
   "display_name": "Python 3",
   "language": "python",
   "name": "python3"
  },
  "language_info": {
   "codemirror_mode": {
    "name": "ipython",
    "version": 3
   },
   "file_extension": ".py",
   "mimetype": "text/x-python",
   "name": "python",
   "nbconvert_exporter": "python",
   "pygments_lexer": "ipython3",
   "version": "3.11.9"
  }
 },
 "nbformat": 4,
 "nbformat_minor": 2
}
