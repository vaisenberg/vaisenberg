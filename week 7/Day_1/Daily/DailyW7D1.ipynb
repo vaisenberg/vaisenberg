{
  "nbformat": 4,
  "nbformat_minor": 0,
  "metadata": {
    "colab": {
      "provenance": [],
      "toc_visible": true
    },
    "kernelspec": {
      "name": "python3",
      "display_name": "Python 3"
    },
    "language_info": {
      "name": "python"
    }
  },
  "cells": [
    {
      "cell_type": "markdown",
      "source": [
        "**A function to exctract topics and its description from github**\n",
        "\n",
        "---\n",
        "\n"
      ],
      "metadata": {
        "id": "Kmr7c196MdAe"
      }
    },
    {
      "cell_type": "code",
      "execution_count": 10,
      "metadata": {
        "colab": {
          "base_uri": "https://localhost:8080/"
        },
        "id": "i_sEVpIaodRA",
        "outputId": "fc8cebd1-31bf-4a75-a1a9-fc4eca75440a"
      },
      "outputs": [
        {
          "output_type": "stream",
          "name": "stdout",
          "text": [
            "Status code: 200\n",
            "Extracted 30 topics: ['3D', 'Ajax', 'Algorithm', 'Amp', 'Android', 'Angular', 'Ansible', 'API', 'Arduino', 'ASP.NET', 'Awesome Lists', 'Amazon Web Services', 'Azure', 'Babel', 'Bash', 'Bitcoin', 'Bootstrap', 'Bot', 'C', 'Chrome', 'Chrome extension', 'Command-line interface', 'Clojure', 'Code quality', 'Code review', 'Compiler', 'Continuous integration', 'C++', 'Cryptocurrency', 'Crystal']\n",
            "Extracted 30 descriptions: ['3D refers to the use of three-dimensional graphics, modeling, and animation in various industries.', 'Ajax is a technique for creating interactive web applications.', 'Algorithms are self-contained sequences that carry out a variety of tasks.', 'Amp is a non-blocking concurrency library for PHP.', 'Android is an operating system built by Google designed for mobile devices.', 'Angular is an open source web application platform.', 'Ansible is a simple and powerful automation engine.', 'An API (Application Programming Interface) is a collection of protocols and subroutines for building software.', 'Arduino is an open source platform for building electronic devices.', 'ASP.NET is a web framework for building modern web apps and services.', 'An awesome list is a list of awesome things curated by the community.', 'Amazon Web Services provides on-demand cloud computing platforms on a subscription basis.', 'Azure is a cloud computing service created by Microsoft.', 'Babel is a compiler for writing next generation JavaScript, today.', 'Bash is a shell and command language interpreter for the GNU operating system.', 'Bitcoin is a cryptocurrency developed by Satoshi Nakamoto.', 'Bootstrap is an HTML, CSS, and JavaScript framework.', 'A bot is an application that runs automated tasks over the Internet.', 'C is a general purpose programming language that first appeared in 1972.', 'Chrome is a web browser from the tech company Google.', 'Chrome extensions enable users to customize the Chrome browsing experience.', 'A CLI, or command-line interface, is a console that helps users issue commands to a program.', 'Clojure is a dynamic, general-purpose programming language.', 'Automate your code review with style, quality, security, and test‑coverage checks when you need them.', 'Ensure your code meets quality standards and ship with confidence.', 'Compilers are software that translate higher-level programming languages to lower-level languages (e.g. machine code).', 'Automatically build and test your code as you push it upstream, preventing bugs from being deployed to production.', 'C++ is a general purpose and object-oriented programming language.', 'A cryptocurrency is a digital currency that uses cryptography.', 'Crystal is a self-hosted, general purpose programming language.']\n",
            "Data saved to github_topics.csv\n",
            "                     Title                                        Description\n",
            "0                       3D  3D refers to the use of three-dimensional grap...\n",
            "1                     Ajax  Ajax is a technique for creating interactive w...\n",
            "2                Algorithm  Algorithms are self-contained sequences that c...\n",
            "3                      Amp  Amp is a non-blocking concurrency library for ...\n",
            "4                  Android  Android is an operating system built by Google...\n",
            "5                  Angular  Angular is an open source web application plat...\n",
            "6                  Ansible  Ansible is a simple and powerful automation en...\n",
            "7                      API  An API (Application Programming Interface) is ...\n",
            "8                  Arduino  Arduino is an open source platform for buildin...\n",
            "9                  ASP.NET  ASP.NET is a web framework for building modern...\n",
            "10           Awesome Lists  An awesome list is a list of awesome things cu...\n",
            "11     Amazon Web Services  Amazon Web Services provides on-demand cloud c...\n",
            "12                   Azure  Azure is a cloud computing service created by ...\n",
            "13                   Babel  Babel is a compiler for writing next generatio...\n",
            "14                    Bash  Bash is a shell and command language interpret...\n",
            "15                 Bitcoin  Bitcoin is a cryptocurrency developed by Satos...\n",
            "16               Bootstrap  Bootstrap is an HTML, CSS, and JavaScript fram...\n",
            "17                     Bot  A bot is an application that runs automated ta...\n",
            "18                       C  C is a general purpose programming language th...\n",
            "19                  Chrome  Chrome is a web browser from the tech company ...\n",
            "20        Chrome extension  Chrome extensions enable users to customize th...\n",
            "21  Command-line interface  A CLI, or command-line interface, is a console...\n",
            "22                 Clojure  Clojure is a dynamic, general-purpose programm...\n",
            "23            Code quality  Automate your code review with style, quality,...\n",
            "24             Code review  Ensure your code meets quality standards and s...\n",
            "25                Compiler  Compilers are software that translate higher-l...\n",
            "26  Continuous integration  Automatically build and test your code as you ...\n",
            "27                     C++  C++ is a general purpose and object-oriented p...\n",
            "28          Cryptocurrency  A cryptocurrency is a digital currency that us...\n",
            "29                 Crystal  Crystal is a self-hosted, general purpose prog...\n"
          ]
        }
      ],
      "source": [
        "import requests\n",
        "from bs4 import BeautifulSoup\n",
        "import pandas as pd\n",
        "\n",
        "def scrape_github_topics(filter_keyword=None):\n",
        "    # URL of the page to scrape\n",
        "    url = \"https://github.com/topics\"\n",
        "    response = requests.get(url)\n",
        "    if response.status_code != 200:\n",
        "        print(f\"Failed to retrieve the page. Status code: {response.status_code}\")\n",
        "        return\n",
        "\n",
        "    print(f\"Status code: {response.status_code}\")\n",
        "\n",
        "    # Parsing the HTML content using BeautifulSoup\n",
        "    soup = BeautifulSoup(response.text, 'html.parser')\n",
        "\n",
        "    # Extracting topic titles and descriptions\n",
        "    topics = soup.find_all('p', class_='f3 lh-condensed mb-0 mt-1 Link--primary')\n",
        "    descriptions = soup.find_all('p', class_='f5 color-fg-muted mb-0 mt-1')\n",
        "\n",
        "    topic_titles = [topic.text.strip() for topic in topics]\n",
        "    topic_descriptions = [desc.text.strip() for desc in descriptions]\n",
        "\n",
        "    # Ensuring both lists have the same length\n",
        "    min_length = min(len(topic_titles), len(topic_descriptions))\n",
        "    topic_titles = topic_titles[:min_length]\n",
        "    topic_descriptions = topic_descriptions[:min_length]\n",
        "\n",
        "    # If filter_keyword is provided, filter the results\n",
        "    if filter_keyword:\n",
        "        filtered_data = [\n",
        "            (title, description)\n",
        "            for title, description in zip(topic_titles, topic_descriptions)\n",
        "            if filter_keyword.lower() in title.lower() or filter_keyword.lower() in description.lower()\n",
        "        ]\n",
        "        topic_titles, topic_descriptions = zip(*filtered_data) if filtered_data else ([], [])\n",
        "\n",
        "    # Verifying extraction\n",
        "    print(f\"Extracted {len(topic_titles)} topics:\", topic_titles)\n",
        "    print(f\"Extracted {len(topic_descriptions)} descriptions:\", topic_descriptions)\n",
        "\n",
        "    # Creating a dictionary for the extracted data\n",
        "    data = {\n",
        "        \"Title\": topic_titles,\n",
        "        \"Description\": topic_descriptions\n",
        "    }\n",
        "\n",
        "    # Converting the dictionary to a pandas DataFrame\n",
        "    df = pd.DataFrame(data)\n",
        "\n",
        "    # Saving to CSV\n",
        "    output_file = \"github_topics_filtered.csv\" if filter_keyword else \"github_topics.csv\"\n",
        "    df.to_csv(output_file, index=False)\n",
        "    print(f\"Data saved to {output_file}\")\n",
        "\n",
        "    print(df)\n",
        "\n",
        "\n",
        "scrape_github_topics()\n"
      ]
    },
    {
      "cell_type": "markdown",
      "source": [
        "**Running a function for 2 filters 'Cryptocurrency' and '3D'**\n",
        "\n",
        "---\n",
        "\n"
      ],
      "metadata": {
        "id": "huc9iVg1Msbf"
      }
    },
    {
      "cell_type": "code",
      "source": [
        "scrape_github_topics('Cryptocurrency')\n",
        "scrape_github_topics('3D')"
      ],
      "metadata": {
        "colab": {
          "base_uri": "https://localhost:8080/"
        },
        "id": "SJbJQp7sMB-E",
        "outputId": "149245a1-b8f1-4ce1-fa19-3f971d6d81ab"
      },
      "execution_count": 9,
      "outputs": [
        {
          "output_type": "stream",
          "name": "stdout",
          "text": [
            "Status code: 200\n",
            "Extracted 2 topics: ('Bitcoin', 'Cryptocurrency')\n",
            "Extracted 2 descriptions: ('Bitcoin is a cryptocurrency developed by Satoshi Nakamoto.', 'A cryptocurrency is a digital currency that uses cryptography.')\n",
            "Data saved to github_topics_filtered.csv\n",
            "            Title                                        Description\n",
            "0         Bitcoin  Bitcoin is a cryptocurrency developed by Satos...\n",
            "1  Cryptocurrency  A cryptocurrency is a digital currency that us...\n",
            "Status code: 200\n",
            "Extracted 1 topics: ('3D',)\n",
            "Extracted 1 descriptions: ('3D refers to the use of three-dimensional graphics, modeling, and animation in various industries.',)\n",
            "Data saved to github_topics_filtered.csv\n",
            "  Title                                        Description\n",
            "0    3D  3D refers to the use of three-dimensional grap...\n"
          ]
        }
      ]
    },
    {
      "cell_type": "markdown",
      "source": [],
      "metadata": {
        "id": "FD2iCBpbMZz0"
      }
    }
  ]
}